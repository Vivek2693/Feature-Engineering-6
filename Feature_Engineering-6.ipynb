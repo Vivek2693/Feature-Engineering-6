{
 "cells": [
  {
   "cell_type": "markdown",
   "id": "7378d3dc",
   "metadata": {},
   "source": [
    "### Q1. Pearson correlation coefficient is a measure of the linear relationship between two variables. Suppose you have collected data on the amount of time students spend studying for an exam and their final examscores. Calculate the Pearson correlation coefficient between these two variables and interpret the result."
   ]
  },
  {
   "cell_type": "markdown",
   "id": "3c714287",
   "metadata": {},
   "source": [
    "$$\n",
    "r = \\frac{\\sum_{i=1}^{n} (x_i - \\bar{x})^2}{\\sqrt{\\sum_{i=1}^{n} (x_i - \\bar{x})^2} \\sqrt{\\sum_{i=1}^{n} (y_i - \\bar{y})^2}}\n",
    "$$"
   ]
  },
  {
   "cell_type": "markdown",
   "id": "51bc80d7",
   "metadata": {},
   "source": [
    "where\n",
    "r is the Pearson correlation coefficient.\n",
    "Xi and Yi are the individual values of the two variables.\n",
    "X bar and y bar are the means of two variables "
   ]
  },
  {
   "cell_type": "code",
   "execution_count": 1,
   "id": "1412ce38",
   "metadata": {},
   "outputs": [
    {
     "name": "stdout",
     "output_type": "stream",
     "text": [
      "Pearson correlation coefficient: 0.9371504107675758\n"
     ]
    }
   ],
   "source": [
    "import numpy as np\n",
    "\n",
    "# Sample data: time spent studying (in hours) and final exam scores\n",
    "time_spent_studying = [5, 8, 3, 6, 7]\n",
    "final_exam_scores = [75, 85, 60, 80, 90]\n",
    "\n",
    "# Calculate means\n",
    "mean_time_spent = np.mean(time_spent_studying)\n",
    "mean_final_scores = np.mean(final_exam_scores)\n",
    "\n",
    "# Calculate numerator and denominator of the correlation coefficient formula\n",
    "numerator = sum((x - mean_time_spent) * (y - mean_final_scores) for x, y in zip(time_spent_studying, final_exam_scores))\n",
    "denominator = np.sqrt(sum((x - mean_time_spent) ** 2 for x in time_spent_studying) * sum((y - mean_final_scores) ** 2 for y in final_exam_scores))\n",
    "\n",
    "# Calculate Pearson correlation coefficient\n",
    "correlation_coefficient = numerator / denominator\n",
    "\n",
    "print(\"Pearson correlation coefficient:\", correlation_coefficient)\n"
   ]
  },
  {
   "cell_type": "raw",
   "id": "9a46b4b0",
   "metadata": {},
   "source": [
    "The Pearson correlation coefficient ranges between -1 and 1.\n",
    "A positive correlation coefficient indicates a positive linear relationship between the variables: as the amount of time spent studying increases, the final exam scores also tend to increase.\n",
    "A negative correlation coefficient indicates a negative linear relationship: as the amount of time spent studying increases, the final exam scores tend to decrease.\n",
    "A correlation coefficient close to 0 indicates no linear relationship between the variables."
   ]
  },
  {
   "cell_type": "markdown",
   "id": "4895a21a",
   "metadata": {},
   "source": [
    "Q2.\n",
    "To calculate Spearman's rank correlation coefficient between the amount of sleep individuals get each night and their overall job satisfaction level, you first need to rank both variables and then apply the formula for Spearman's rank correlation coefficient:"
   ]
  },
  {
   "cell_type": "markdown",
   "id": "9e999a51",
   "metadata": {},
   "source": [
    "$$\n",
    "\\rho = 1 - \\frac{n(n^2 - 1)}{6 \\sum d_i^2}\n",
    "$$"
   ]
  },
  {
   "cell_type": "markdown",
   "id": "90039f45",
   "metadata": {},
   "source": [
    "row :represents the Pearson correlation coefficient.\n",
    "n represents the number of data points.\n",
    "di  represents the difference between paired observations.\n",
    "summation of di square represents the sum of squares of the differences between paired observations."
   ]
  },
  {
   "cell_type": "markdown",
   "id": "bf2580ca",
   "metadata": {},
   "source": [
    "### Q3. Suppose you are conducting a study to examine the relationship between the number of hours of exercise per week and body mass index (BMI) in a sample of adults. You collected data on both variables for 50 participants. Calculate the Pearson correlation coefficient and the Spearman's rank correlation between these two variables and compare the results."
   ]
  },
  {
   "cell_type": "code",
   "execution_count": 50,
   "id": "a07e653c",
   "metadata": {},
   "outputs": [
    {
     "name": "stdout",
     "output_type": "stream",
     "text": [
      "Pearson correlation coefficient: 0.9852426411143596\n",
      "Spearman's rank correlation coefficient: 0.9909928041708108\n",
      "Pearson correlation coefficient: 0.9852426411143598\n",
      "Spearman's rank correlation coefficient: 0.9909928041708109\n"
     ]
    }
   ],
   "source": [
    "import numpy as np\n",
    "from scipy.stats import pearsonr, spearmanr\n",
    "\n",
    "# Sample data: hours of exercise per week and BMI for 50 participants\n",
    "hours_of_exercise = [3, 5, 2, 4, 6, 1, 3, 2, 5, 4,\n",
    "                     2, 3, 4, 6, 2, 5, 3, 1, 4, 2,\n",
    "                     5, 3, 4, 2, 6, 4, 3, 2, 1, 5,\n",
    "                     4, 3, 5, 2, 6, 3, 4, 1, 5, 2,\n",
    "                     4, 3, 6, 2, 5, 4, 3, 1, 2, 5]\n",
    "\n",
    "BMI = [22, 25, 20, 24, 26, 18, 21, 19, 24, 23,\n",
    "       19, 22, 23, 26, 20, 25, 22, 18, 24, 20,\n",
    "       25, 22, 23, 20, 26, 23, 22, 20, 18, 25,\n",
    "       23, 22, 25, 20, 26, 22, 24, 18, 25, 20,\n",
    "       24, 22, 26, 20, 25, 23, 22, 18, 20, 25]\n",
    "\n",
    "# Calculate Pearson correlation coefficient\n",
    "pearson_corr, _ = pearsonr(hours_of_exercise, BMI)\n",
    "\n",
    "\n",
    "# direct using on df to get the matrix\n",
    "person_cor = df.corr(method='pearson')\n",
    "spearman_cor = df.corr(method='spearman')\n",
    "\n",
    "\n",
    "# Calculate Spearman's rank correlation coefficient\n",
    "spearman_corr, _ = spearmanr(hours_of_exercise, BMI)\n",
    "\n",
    "print(\"Pearson correlation coefficient:\", pearson_corr)\n",
    "print(\"Spearman's rank correlation coefficient:\", spearman_corr)\n",
    "print(\"Pearson correlation coefficient:\",person_cor.loc['hours_of_exercise','BMI'])\n",
    "print(\"Spearman's rank correlation coefficient:\", spearman_cor.loc['hours_of_exercise','BMI'])\n"
   ]
  },
  {
   "cell_type": "code",
   "execution_count": 49,
   "id": "7915ef64",
   "metadata": {},
   "outputs": [],
   "source": [
    "import pandas as pd\n",
    "df = pd.DataFrame({'hours_of_exercise':[3, 5, 2, 4, 6, 1, 3, 2, 5, 4,\n",
    "                     2, 3, 4, 6, 2, 5, 3, 1, 4, 2,\n",
    "                     5, 3, 4, 2, 6, 4, 3, 2, 1, 5,\n",
    "                     4, 3, 5, 2, 6, 3, 4, 1, 5, 2,\n",
    "                     4, 3, 6, 2, 5, 4, 3, 1, 2, 5],\n",
    "                   'BMI':[22, 25, 20, 24, 26, 18, 21, 19, 24, 23,\n",
    "       19, 22, 23, 26, 20, 25, 22, 18, 24, 20,\n",
    "       25, 22, 23, 20, 26, 23, 22, 20, 18, 25,\n",
    "       23, 22, 25, 20, 26, 22, 24, 18, 25, 20,\n",
    "       24, 22, 26, 20, 25, 23, 22, 18, 20, 25]})"
   ]
  },
  {
   "cell_type": "markdown",
   "id": "100d6ff8",
   "metadata": {},
   "source": [
    "### Q4. A researcher is interested in examining the relationship between the number of hours individuals\n",
    "spend watching television per day and their level of physical activity. The researcher collected data on\n",
    "both variables from a sample of 50 participants. Calculate the Pearson correlation coefficient between\n",
    "these two variables."
   ]
  },
  {
   "cell_type": "code",
   "execution_count": 13,
   "id": "d37bb4f7",
   "metadata": {},
   "outputs": [
    {
     "name": "stdout",
     "output_type": "stream",
     "text": [
      "Pearson correlation coefficient between hours of TV per day and physical activity level: 0.35999999999999993\n"
     ]
    }
   ],
   "source": [
    "import numpy as np\n",
    "\n",
    "# Sample data: number of hours individuals spend watching television per day and level of physical activity\n",
    "hours_tv_per_day = [2, 3, 1, 4, 5, 2, 3, 1, 4, 5,\n",
    "                    3, 2, 4, 1, 5, 2, 3, 1, 4, 5,\n",
    "                    4, 2, 3, 1, 5, 3, 2, 1, 4, 5,\n",
    "                    5, 4, 3, 1, 2, 4, 5, 3, 2, 1,\n",
    "                    1, 3, 4, 2, 5, 2, 1, 4, 3, 5]\n",
    "\n",
    "physical_activity_level = [3, 4, 2, 5, 1, 4, 3, 2, 5, 1,\n",
    "                           2, 3, 5, 1, 4, 3, 2, 1, 5, 4,\n",
    "                           5, 3, 2, 1, 4, 2, 3, 1, 5, 4,\n",
    "                           1, 5, 4, 3, 2, 1, 5, 3, 2, 4,\n",
    "                           3, 2, 1, 4, 5, 3, 2, 1, 4, 5]\n",
    "\n",
    "# Calculate Pearson correlation coefficient\n",
    "pearson_corr_tv_activity = np.corrcoef(hours_tv_per_day, physical_activity_level)[0, 1]\n",
    "\n",
    "print(\"Pearson correlation coefficient between hours of TV per day and physical activity level:\", pearson_corr_tv_activity)\n"
   ]
  },
  {
   "cell_type": "code",
   "execution_count": 22,
   "id": "3ea57627",
   "metadata": {},
   "outputs": [
    {
     "data": {
      "text/html": [
       "<div>\n",
       "<style scoped>\n",
       "    .dataframe tbody tr th:only-of-type {\n",
       "        vertical-align: middle;\n",
       "    }\n",
       "\n",
       "    .dataframe tbody tr th {\n",
       "        vertical-align: top;\n",
       "    }\n",
       "\n",
       "    .dataframe thead th {\n",
       "        text-align: right;\n",
       "    }\n",
       "</style>\n",
       "<table border=\"1\" class=\"dataframe\">\n",
       "  <thead>\n",
       "    <tr style=\"text-align: right;\">\n",
       "      <th></th>\n",
       "      <th>Age (Years)</th>\n",
       "      <th>Soft Drink Preference</th>\n",
       "    </tr>\n",
       "  </thead>\n",
       "  <tbody>\n",
       "    <tr>\n",
       "      <th>0</th>\n",
       "      <td>25</td>\n",
       "      <td>Coke</td>\n",
       "    </tr>\n",
       "    <tr>\n",
       "      <th>1</th>\n",
       "      <td>42</td>\n",
       "      <td>Pepsi</td>\n",
       "    </tr>\n",
       "    <tr>\n",
       "      <th>2</th>\n",
       "      <td>37</td>\n",
       "      <td>Mountain Dew</td>\n",
       "    </tr>\n",
       "    <tr>\n",
       "      <th>3</th>\n",
       "      <td>19</td>\n",
       "      <td>Coke</td>\n",
       "    </tr>\n",
       "    <tr>\n",
       "      <th>4</th>\n",
       "      <td>31</td>\n",
       "      <td>Pepsi</td>\n",
       "    </tr>\n",
       "    <tr>\n",
       "      <th>5</th>\n",
       "      <td>28</td>\n",
       "      <td>Coke</td>\n",
       "    </tr>\n",
       "  </tbody>\n",
       "</table>\n",
       "</div>"
      ],
      "text/plain": [
       "   Age (Years) Soft Drink Preference\n",
       "0           25                  Coke\n",
       "1           42                 Pepsi\n",
       "2           37          Mountain Dew\n",
       "3           19                  Coke\n",
       "4           31                 Pepsi\n",
       "5           28                  Coke"
      ]
     },
     "execution_count": 22,
     "metadata": {},
     "output_type": "execute_result"
    }
   ],
   "source": [
    "import pandas as pd\n",
    "\n",
    "# Create a list of dictionaries containing data for each row\n",
    "data = [\n",
    "    {\"Age (Years)\": 25, \"Soft Drink Preference\": \"Coke\"},\n",
    "    {\"Age (Years)\": 42, \"Soft Drink Preference\": \"Pepsi\"},\n",
    "    {\"Age (Years)\": 37, \"Soft Drink Preference\": \"Mountain Dew\"},\n",
    "    {\"Age (Years)\": 19, \"Soft Drink Preference\": \"Coke\"},\n",
    "    {\"Age (Years)\": 31, \"Soft Drink Preference\": \"Pepsi\"},\n",
    "    {\"Age (Years)\": 28, \"Soft Drink Preference\": \"Coke\"},\n",
    "]\n",
    "\n",
    "# Create the DataFrame from the list of dictionaries\n",
    "df = pd.DataFrame(data)\n",
    "\n",
    "# Print the DataFrame\n",
    "df\n"
   ]
  },
  {
   "cell_type": "code",
   "execution_count": 24,
   "id": "730ff2c3",
   "metadata": {},
   "outputs": [],
   "source": [
    "category_mapping = {'Coke': 0, 'Pepsi': 1,'Mountain Dew':2}"
   ]
  },
  {
   "cell_type": "code",
   "execution_count": 25,
   "id": "14fa36ba",
   "metadata": {},
   "outputs": [],
   "source": [
    "df['Categorical_encoded'] = df['Soft Drink Preference'].map(category_mapping)\n"
   ]
  },
  {
   "cell_type": "code",
   "execution_count": 26,
   "id": "933340d0",
   "metadata": {},
   "outputs": [
    {
     "data": {
      "text/html": [
       "<div>\n",
       "<style scoped>\n",
       "    .dataframe tbody tr th:only-of-type {\n",
       "        vertical-align: middle;\n",
       "    }\n",
       "\n",
       "    .dataframe tbody tr th {\n",
       "        vertical-align: top;\n",
       "    }\n",
       "\n",
       "    .dataframe thead th {\n",
       "        text-align: right;\n",
       "    }\n",
       "</style>\n",
       "<table border=\"1\" class=\"dataframe\">\n",
       "  <thead>\n",
       "    <tr style=\"text-align: right;\">\n",
       "      <th></th>\n",
       "      <th>Age (Years)</th>\n",
       "      <th>Soft Drink Preference</th>\n",
       "      <th>Categorical_encoded</th>\n",
       "    </tr>\n",
       "  </thead>\n",
       "  <tbody>\n",
       "    <tr>\n",
       "      <th>0</th>\n",
       "      <td>25</td>\n",
       "      <td>Coke</td>\n",
       "      <td>0</td>\n",
       "    </tr>\n",
       "    <tr>\n",
       "      <th>1</th>\n",
       "      <td>42</td>\n",
       "      <td>Pepsi</td>\n",
       "      <td>1</td>\n",
       "    </tr>\n",
       "    <tr>\n",
       "      <th>2</th>\n",
       "      <td>37</td>\n",
       "      <td>Mountain Dew</td>\n",
       "      <td>2</td>\n",
       "    </tr>\n",
       "    <tr>\n",
       "      <th>3</th>\n",
       "      <td>19</td>\n",
       "      <td>Coke</td>\n",
       "      <td>0</td>\n",
       "    </tr>\n",
       "    <tr>\n",
       "      <th>4</th>\n",
       "      <td>31</td>\n",
       "      <td>Pepsi</td>\n",
       "      <td>1</td>\n",
       "    </tr>\n",
       "    <tr>\n",
       "      <th>5</th>\n",
       "      <td>28</td>\n",
       "      <td>Coke</td>\n",
       "      <td>0</td>\n",
       "    </tr>\n",
       "  </tbody>\n",
       "</table>\n",
       "</div>"
      ],
      "text/plain": [
       "   Age (Years) Soft Drink Preference  Categorical_encoded\n",
       "0           25                  Coke                    0\n",
       "1           42                 Pepsi                    1\n",
       "2           37          Mountain Dew                    2\n",
       "3           19                  Coke                    0\n",
       "4           31                 Pepsi                    1\n",
       "5           28                  Coke                    0"
      ]
     },
     "execution_count": 26,
     "metadata": {},
     "output_type": "execute_result"
    }
   ],
   "source": [
    "df"
   ]
  },
  {
   "cell_type": "code",
   "execution_count": 27,
   "id": "387b50c1",
   "metadata": {},
   "outputs": [],
   "source": [
    "# Calculate Pearson correlation coefficient\n",
    "pearson_corr = df['Age (Years)'].corr(df['Categorical_encoded'])"
   ]
  },
  {
   "cell_type": "code",
   "execution_count": 28,
   "id": "a6f19c4b",
   "metadata": {},
   "outputs": [
    {
     "data": {
      "text/plain": [
       "0.7587035441865058"
      ]
     },
     "execution_count": 28,
     "metadata": {},
     "output_type": "execute_result"
    }
   ],
   "source": [
    "pearson_corr"
   ]
  },
  {
   "cell_type": "code",
   "execution_count": 34,
   "id": "20b0e3e0",
   "metadata": {},
   "outputs": [],
   "source": [
    "pearson_corr, _ = pearsonr(df['Age (Years)'],df['Categorical_encoded'] )"
   ]
  },
  {
   "cell_type": "code",
   "execution_count": 35,
   "id": "54b1a680",
   "metadata": {},
   "outputs": [
    {
     "data": {
      "text/plain": [
       "(0.7587035441865058, 0.08031134942324102)"
      ]
     },
     "execution_count": 35,
     "metadata": {},
     "output_type": "execute_result"
    }
   ],
   "source": [
    "pearson_corr, _ "
   ]
  },
  {
   "cell_type": "markdown",
   "id": "3995675e",
   "metadata": {},
   "source": [
    "### Q6. A company is interested in examining the relationship between the number of sales calls made per dayand the number of sales made per week. The company collected data on both variables from a sample of 30 sales representatives. Calculate the Pearson correlation coefficient between these two variables"
   ]
  },
  {
   "cell_type": "code",
   "execution_count": 36,
   "id": "9e1a8cfa",
   "metadata": {},
   "outputs": [
    {
     "name": "stdout",
     "output_type": "stream",
     "text": [
      "Pearson correlation coefficient: 0.9562053871173555\n"
     ]
    }
   ],
   "source": [
    "from scipy.stats import pearsonr\n",
    "\n",
    "# Sample data \n",
    "sales_calls_per_day = [10, 12, 15, 8, 11, 9, 13, 14, 16, 10, 12, 11, 9, 13, 15, 17, 10, 11, 12, 14, 15, 16, 11, 12, 13, 14, 15, 16, 17, 18]\n",
    "sales_per_week = [50, 55, 60, 45, 52, 48, 58, 62, 64, 51, 54, 53, 47, 59, 61, 65, 52, 53, 56, 57, 59, 60, 54, 55, 56, 58, 59, 61, 62, 63]\n",
    "\n",
    "# Calculate Pearson correlation coefficient\n",
    "pearson_corr, _ = pearsonr(sales_calls_per_day, sales_per_week)\n",
    "\n",
    "# Print the correlation coefficient\n",
    "print(\"Pearson correlation coefficient:\", pearson_corr)\n"
   ]
  },
  {
   "cell_type": "markdown",
   "id": "f9854106",
   "metadata": {},
   "source": [
    "### Alternate way"
   ]
  },
  {
   "cell_type": "code",
   "execution_count": 37,
   "id": "4ef3112f",
   "metadata": {},
   "outputs": [],
   "source": [
    "df = pd.DataFrame({'sales_calls_per_day':[10, 12, 15, 8, 11, 9, 13, 14, 16, 10, 12, 11, 9, 13, 15, 17, 10, 11, 12, 14, 15, 16, 11, 12, 13, 14, 15, 16, 17, 18],\n",
    "                   'sales_per_week' : [50, 55, 60, 45, 52, 48, 58, 62, 64, 51, 54, 53, 47, 59, 61, 65, 52, 53, 56, 57, 59, 60, 54, 55, 56, 58, 59, 61, 62, 63]\n",
    "                     })"
   ]
  },
  {
   "cell_type": "code",
   "execution_count": 43,
   "id": "a8ed6c3e",
   "metadata": {},
   "outputs": [
    {
     "data": {
      "text/html": [
       "<div>\n",
       "<style scoped>\n",
       "    .dataframe tbody tr th:only-of-type {\n",
       "        vertical-align: middle;\n",
       "    }\n",
       "\n",
       "    .dataframe tbody tr th {\n",
       "        vertical-align: top;\n",
       "    }\n",
       "\n",
       "    .dataframe thead th {\n",
       "        text-align: right;\n",
       "    }\n",
       "</style>\n",
       "<table border=\"1\" class=\"dataframe\">\n",
       "  <thead>\n",
       "    <tr style=\"text-align: right;\">\n",
       "      <th></th>\n",
       "      <th>sales_calls_per_day</th>\n",
       "      <th>sales_per_week</th>\n",
       "    </tr>\n",
       "  </thead>\n",
       "  <tbody>\n",
       "    <tr>\n",
       "      <th>sales_calls_per_day</th>\n",
       "      <td>1.000000</td>\n",
       "      <td>0.956205</td>\n",
       "    </tr>\n",
       "    <tr>\n",
       "      <th>sales_per_week</th>\n",
       "      <td>0.956205</td>\n",
       "      <td>1.000000</td>\n",
       "    </tr>\n",
       "  </tbody>\n",
       "</table>\n",
       "</div>"
      ],
      "text/plain": [
       "                     sales_calls_per_day  sales_per_week\n",
       "sales_calls_per_day             1.000000        0.956205\n",
       "sales_per_week                  0.956205        1.000000"
      ]
     },
     "execution_count": 43,
     "metadata": {},
     "output_type": "execute_result"
    }
   ],
   "source": [
    "df.corr(method='pearson')"
   ]
  },
  {
   "cell_type": "code",
   "execution_count": 44,
   "id": "c046aa52",
   "metadata": {},
   "outputs": [
    {
     "data": {
      "text/plain": [
       "0.9562053871173557"
      ]
     },
     "execution_count": 44,
     "metadata": {},
     "output_type": "execute_result"
    }
   ],
   "source": [
    "df.corr(method='pearson')['sales_calls_per_day']['sales_per_week']"
   ]
  },
  {
   "cell_type": "code",
   "execution_count": 45,
   "id": "47727139",
   "metadata": {},
   "outputs": [
    {
     "data": {
      "text/html": [
       "<div>\n",
       "<style scoped>\n",
       "    .dataframe tbody tr th:only-of-type {\n",
       "        vertical-align: middle;\n",
       "    }\n",
       "\n",
       "    .dataframe tbody tr th {\n",
       "        vertical-align: top;\n",
       "    }\n",
       "\n",
       "    .dataframe thead th {\n",
       "        text-align: right;\n",
       "    }\n",
       "</style>\n",
       "<table border=\"1\" class=\"dataframe\">\n",
       "  <thead>\n",
       "    <tr style=\"text-align: right;\">\n",
       "      <th></th>\n",
       "      <th>sales_calls_per_day</th>\n",
       "      <th>sales_per_week</th>\n",
       "    </tr>\n",
       "  </thead>\n",
       "  <tbody>\n",
       "    <tr>\n",
       "      <th>sales_calls_per_day</th>\n",
       "      <td>1.000000</td>\n",
       "      <td>0.964617</td>\n",
       "    </tr>\n",
       "    <tr>\n",
       "      <th>sales_per_week</th>\n",
       "      <td>0.964617</td>\n",
       "      <td>1.000000</td>\n",
       "    </tr>\n",
       "  </tbody>\n",
       "</table>\n",
       "</div>"
      ],
      "text/plain": [
       "                     sales_calls_per_day  sales_per_week\n",
       "sales_calls_per_day             1.000000        0.964617\n",
       "sales_per_week                  0.964617        1.000000"
      ]
     },
     "execution_count": 45,
     "metadata": {},
     "output_type": "execute_result"
    }
   ],
   "source": [
    "df.corr(method='spearman')"
   ]
  },
  {
   "cell_type": "code",
   "execution_count": 46,
   "id": "a1411315",
   "metadata": {},
   "outputs": [
    {
     "data": {
      "text/plain": [
       "0.9646171093976638"
      ]
     },
     "execution_count": 46,
     "metadata": {},
     "output_type": "execute_result"
    }
   ],
   "source": [
    "df.corr(method='spearman')['sales_calls_per_day']['sales_per_week']"
   ]
  },
  {
   "cell_type": "code",
   "execution_count": null,
   "id": "1e5dabb0",
   "metadata": {},
   "outputs": [],
   "source": []
  }
 ],
 "metadata": {
  "kernelspec": {
   "display_name": "Python 3 (ipykernel)",
   "language": "python",
   "name": "python3"
  },
  "language_info": {
   "codemirror_mode": {
    "name": "ipython",
    "version": 3
   },
   "file_extension": ".py",
   "mimetype": "text/x-python",
   "name": "python",
   "nbconvert_exporter": "python",
   "pygments_lexer": "ipython3",
   "version": "3.10.9"
  }
 },
 "nbformat": 4,
 "nbformat_minor": 5
}
